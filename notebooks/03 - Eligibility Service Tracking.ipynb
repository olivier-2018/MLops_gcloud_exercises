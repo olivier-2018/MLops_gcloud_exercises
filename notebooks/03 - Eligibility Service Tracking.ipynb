{
 "cells": [
  {
   "cell_type": "markdown",
   "id": "metropolitan-stephen",
   "metadata": {},
   "source": [
    "# Excercise 3: Track Experiments"
   ]
  },
  {
   "cell_type": "markdown",
   "id": "military-arbor",
   "metadata": {},
   "source": [
    "## Prepare data once again"
   ]
  },
  {
   "cell_type": "code",
   "execution_count": 1,
   "id": "exclusive-vienna",
   "metadata": {},
   "outputs": [],
   "source": [
    "import pandas as pd\n",
    "import numpy as np\n",
    "import matplotlib.pyplot as plt\n",
    "import seaborn as sns\n",
    "sns.set_style('whitegrid')\n",
    "\n",
    "start_df = pd.read_csv('./clean-loan-data.csv', low_memory=False)\n",
    "\n",
    "pd.set_option('display.max_columns', None)\n",
    "\n",
    "df = start_df.copy(deep=True)\n",
    "df['TARGET'] = [0 if i=='Default' else 1 for i in df['loan_status']]\n",
    "df.drop(df.columns.difference(['loan_amnt', 'annual_inc', 'TARGET']), 1, inplace=True)\n",
    "df = df.dropna()\n",
    "df = pd.get_dummies(df)"
   ]
  },
  {
   "cell_type": "code",
   "execution_count": 2,
   "id": "optional-sweden",
   "metadata": {},
   "outputs": [],
   "source": [
    "from sklearn.model_selection import train_test_split\n",
    "X_train = df.drop('TARGET',axis=1)\n",
    "y_train = df['TARGET']\n",
    "X_train, X_test, y_train, y_test = train_test_split(df.drop('TARGET',axis=1),df['TARGET'],test_size=0.15,random_state=101,  stratify=df['TARGET'])"
   ]
  },
  {
   "cell_type": "code",
   "execution_count": 3,
   "id": "partial-tattoo",
   "metadata": {},
   "outputs": [],
   "source": [
    "from imblearn.over_sampling import SMOTE\n",
    "\n",
    "sm = SMOTE(random_state=12)\n",
    "x_train_r, y_train_r = sm.fit_resample(X_train, y_train)"
   ]
  },
  {
   "cell_type": "markdown",
   "id": "european-motor",
   "metadata": {},
   "source": [
    "# Excercise 1: Track Experiment\n",
    "\n",
    "Check the documentation at https://www.mlflow.org/docs/latest/tracking.html#logging-data-to-runs and track the experiment using these functions.\n",
    "\n",
    "1. set_experiment\n",
    "2. start run\n",
    "3. log_param\n",
    "4. set_tag\n",
    "\n",
    "Check the MLFlow UI: http://localhost:5500\n",
    "\n",
    "*Questions*\n",
    "- Experiment with these values. How would you use them?\n",
    "- Can your reproduce how the pipeline looks in the MLFlow UI?"
   ]
  },
  {
   "cell_type": "code",
   "execution_count": 4,
   "id": "incident-combining",
   "metadata": {},
   "outputs": [],
   "source": [
    "from sklearn.linear_model import LogisticRegression\n",
    "from sklearn.preprocessing import StandardScaler\n",
    "from sklearn.metrics import accuracy_score, classification_report, confusion_matrix\n",
    "from sklearn.pipeline import make_pipeline\n",
    "\n",
    "import mlflow\n",
    "\n",
    "\n",
    "mlflow.set_tracking_uri(\"http://mlflow:5500\")\n",
    "\n",
    "experiment_id = mlflow.set_experiment(\"eligibility\")\n",
    "\n",
    "with mlflow.start_run():\n",
    "    mlflow.set_tag(\"estimator\",\"LogReg\")\n",
    "    \n",
    "    eligibility_pipeline = make_pipeline(StandardScaler(), LogisticRegression())\n",
    "    eligibility_pipeline.fit(x_train_r, y_train_r)\n",
    "\n",
    "\n",
    "\n"
   ]
  },
  {
   "cell_type": "markdown",
   "id": "productive-contents",
   "metadata": {},
   "source": [
    "## Excercise 2: Autolog\n",
    "\n",
    "Instead of tracking everything manually, MLFlow supports autotracking of several libraries including sklearn.\n",
    "\n",
    "So reuse your code above, remove all calls to `set_tag` and `log_param`. Instead call `mlflow.autolog()` before starting the run.\n",
    "\n",
    "Check the MLFlow UI: http://localhost:5500\n",
    "\n",
    "Questions\n",
    "- How did that change in the MLFlow UI"
   ]
  },
  {
   "cell_type": "code",
   "execution_count": 5,
   "id": "communist-sacrifice",
   "metadata": {},
   "outputs": [],
   "source": [
    "import mlflow\n",
    "\n",
    "mlflow.set_tracking_uri(\"http://mlflow:5500\")\n"
   ]
  },
  {
   "cell_type": "code",
   "execution_count": null,
   "id": "f6e02aea",
   "metadata": {},
   "outputs": [],
   "source": []
  }
 ],
 "metadata": {
  "kernelspec": {
   "display_name": "Python 3",
   "language": "python",
   "name": "python3"
  },
  "language_info": {
   "codemirror_mode": {
    "name": "ipython",
    "version": 3
   },
   "file_extension": ".py",
   "mimetype": "text/x-python",
   "name": "python",
   "nbconvert_exporter": "python",
   "pygments_lexer": "ipython3",
   "version": "3.8.8"
  }
 },
 "nbformat": 4,
 "nbformat_minor": 5
}
