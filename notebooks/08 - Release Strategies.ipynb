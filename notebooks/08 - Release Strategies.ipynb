{
 "cells": [
  {
   "cell_type": "markdown",
   "id": "e8ed7179",
   "metadata": {},
   "source": [
    "# Excercise 08: Release Strategies\n"
   ]
  },
  {
   "cell_type": "code",
   "execution_count": null,
   "id": "af775285",
   "metadata": {},
   "outputs": [],
   "source": []
  },
  {
   "cell_type": "markdown",
   "id": "5735f18a",
   "metadata": {},
   "source": [
    "## AB Testing"
   ]
  },
  {
   "cell_type": "markdown",
   "id": "b306b911",
   "metadata": {},
   "source": [
    "\n",
    "Create a new file in the folder `pipelines` named `ab-seldon-model.yml`:\n",
    "\n",
    "```yaml\n",
    "apiVersion: machinelearning.seldon.io/v1alpha2\n",
    "kind: SeldonDeployment\n",
    "metadata:\n",
    "  name: <yourname>-model\n",
    "spec:\n",
    "  name: <yourname>-model\n",
    "  predictors:\n",
    "    - componentSpecs:\n",
    "        - spec:\n",
    "            containers:\n",
    "            - name: dummy-classifier\n",
    "              image: fluescher/seldon-dummy-service\n",
    "      graph:\n",
    "        children: []\n",
    "        endpoint:\n",
    "          type: REST\n",
    "        name: dummy-classifier\n",
    "        type: MODEL\n",
    "      name: dummy-classifier\n",
    "      replicas: 1\n",
    "      traffic: 20\n",
    "    - componentSpecs:\n",
    "        - spec:\n",
    "            containers:\n",
    "            - name: real-classifier\n",
    "              image: gcr.io/academy-300812/<yourname>/eligiblity-service:latest\n",
    "      graph:\n",
    "        children: []\n",
    "        endpoint:\n",
    "          type: REST\n",
    "        name: real-classifier\n",
    "        type: MODEL\n",
    "      name: real-classifier\n",
    "      replicas: 1\n",
    "      traffic: 80\n",
    "```\n",
    "\n",
    "'kubectl apply -f ab-seldon-model.yml'\n",
    "\n",
    "Verify that the pods are started correctly by issueing `kubectl get pods`. Are all up and running?\n",
    "\n",
    "\n",
    "You can generate load: `NAMESPACE=<yourname> MODEL=<yourname>-model ../services/create-load.sh`\n",
    "\n",
    "\n",
    "Replace `<yourname>` with your name.\n",
    "\n",
    "Questions:\n",
    "- Generate some load to this model. Can you verify if both deployments get traffic? Check Grafana\n",
    "- How is the user impacted by this deployment?\n",
    "\n"
   ]
  },
  {
   "cell_type": "code",
   "execution_count": null,
   "id": "13924cdc",
   "metadata": {
    "scrolled": false
   },
   "outputs": [],
   "source": [
    "!NAMESPACE=olivier MODEL=olivier-model ../services/create-load.sh"
   ]
  },
  {
   "cell_type": "markdown",
   "id": "04f93f5e",
   "metadata": {},
   "source": [
    "## Shadowing\n",
    "\n",
    "To test a shadow deployment, first remove the previous deployment using `kubectl delete -f ab-seldon-model.yml`:\n",
    "\n",
    "\n",
    "Create a new file in the folder `pipelines` named `shadow-seldon-model.yml`:\n",
    "\n",
    "\n",
    "```yaml\n",
    "apiVersion: machinelearning.seldon.io/v1alpha2\n",
    "kind: SeldonDeployment\n",
    "metadata:\n",
    "  name: <yourname>-model\n",
    "spec:\n",
    "  name: <yourname>-model\n",
    "  predictors:\n",
    "    - componentSpecs:\n",
    "        - spec:\n",
    "            containers:\n",
    "            - name: dummy-classifier\n",
    "              image: fluescher/seldon-dummy-service\n",
    "      graph:\n",
    "        children: []\n",
    "        endpoint:\n",
    "          type: REST\n",
    "        name: dummy-classifier\n",
    "        type: MODEL\n",
    "      name: dummy-classifier\n",
    "      replicas: 1\n",
    "    - componentSpecs:\n",
    "        - spec:\n",
    "            containers:\n",
    "            - name: real-classifier\n",
    "              image: gcr.io/academy-300812/<yourname>/eligiblity-service:latest\n",
    "      graph:\n",
    "        children: []\n",
    "        endpoint:\n",
    "          type: REST\n",
    "        name: real-classifier\n",
    "        type: MODEL\n",
    "      name: real-classifier\n",
    "      replicas: 1\n",
    "      shadow: true\n",
    "```\n",
    "\n",
    "Verify that the pods are started correctly by issueing `kubectl get pods`. Are all up and running?\n",
    "\n",
    "You can generate load: `NAMESPACE=<yourname> MODEL=<yourname>-model ../services/create-load.sh`\n",
    "\n",
    "\n",
    "Questions:\n",
    "- Generate some load to this model. Can you verify if both deployments get traffic? Check Grafana\n",
    "- How is the user impacted by this deployment?"
   ]
  },
  {
   "cell_type": "code",
   "execution_count": null,
   "id": "a9bb3864",
   "metadata": {},
   "outputs": [],
   "source": []
  }
 ],
 "metadata": {
  "kernelspec": {
   "display_name": "Python 3",
   "language": "python",
   "name": "python3"
  },
  "language_info": {
   "codemirror_mode": {
    "name": "ipython",
    "version": 3
   },
   "file_extension": ".py",
   "mimetype": "text/x-python",
   "name": "python",
   "nbconvert_exporter": "python",
   "pygments_lexer": "ipython3",
   "version": "3.8.8"
  }
 },
 "nbformat": 4,
 "nbformat_minor": 5
}
