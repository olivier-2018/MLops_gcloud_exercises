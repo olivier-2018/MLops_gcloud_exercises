{
 "cells": [
  {
   "cell_type": "markdown",
   "id": "productive-symphony",
   "metadata": {},
   "source": [
    "# Excercise 2: DVC\n",
    "\n",
    "Data Version Control"
   ]
  },
  {
   "cell_type": "markdown",
   "id": "vital-hughes",
   "metadata": {},
   "source": [
    "## Excercise 1: Create own branch\n",
    "\n",
    "\n",
    "It is possible to execute bash statements by prepending them with `!`\n",
    "\n",
    "\n",
    "\n",
    "\n"
   ]
  },
  {
   "cell_type": "code",
   "execution_count": 1,
   "id": "infrared-visitor",
   "metadata": {},
   "outputs": [
    {
     "name": "stdout",
     "output_type": "stream",
     "text": [
      "total 458048\n",
      "-rwxr-xr-x 1 jovyan  1000    472675 May 21 09:55 '00 - Explore Loan Data .ipynb'\n",
      "-rwxr-xr-x 1 jovyan  1000     33892 May 21 11:31 '01 - Eligibility Service Model.ipynb'\n",
      "-rwxr-xr-x 1 jovyan  1000      6542 May 21 06:44 '02 - DVC .ipynb'\n",
      "-rwxr-xr-x 1 jovyan  1000      4173 May 21 06:44 '03 - Eligibility Service Tracking.ipynb'\n",
      "-rwxr-xr-x 1 jovyan  1000      4643 May 21 06:44 '04 - Containerization.ipynb'\n",
      "-rw-r--r-- 1 jovyan  1000      4504 May 21 06:44 '05 - Cloud Deployment.ipynb'\n",
      "-rw-r--r-- 1 jovyan  1000      5940 May 21 06:44 '06 - Monitoring.ipynb'\n",
      "-rw-r--r-- 1 jovyan  1000      6407 May 21 06:44 '07 - Fault Tolerance.ipynb'\n",
      "-rw-r--r-- 1 jovyan  1000      5007 May 21 06:44 '08 - Release Strategies.ipynb'\n",
      "drwxr-xr-x 3 jovyan  1000      4096 May 21 06:44  artifacts\n",
      "-rw-r--r-- 1 jovyan users 379763062 May 21 09:54  clean-loan-data.csv\n",
      "-rw-r--r-- 1 jovyan  1000  88686828 May 21 06:44  clean-loan-data.csv.gz\n",
      "drwxr-xr-x 2 jovyan  1000      4096 May 21 06:44  data\n",
      "drwxr-xr-x 2 jovyan  1000      4096 May 21 06:44  models\n"
     ]
    }
   ],
   "source": [
    "!ls -l ."
   ]
  },
  {
   "cell_type": "markdown",
   "id": "canadian-glucose",
   "metadata": {},
   "source": [
    "Create a git branch:\n",
    "\n",
    "- Add your gitinfo: \n",
    "  - `git config user.email \"you@example.com\"`\n",
    "  - `git config user.name \"Your Name\"`\n",
    "- name your branch with your name. Eg. `git checkout -b florian`\n"
   ]
  },
  {
   "cell_type": "code",
   "execution_count": 7,
   "id": "amateur-round",
   "metadata": {},
   "outputs": [],
   "source": [
    "!cat data/.gitignore"
   ]
  },
  {
   "cell_type": "code",
   "execution_count": 6,
   "id": "792ed55a",
   "metadata": {},
   "outputs": [],
   "source": [
    "!git config --global user.email \"myName@example.com\"\n",
    "!git config --global user.name \"My Name\""
   ]
  },
  {
   "cell_type": "markdown",
   "id": "excited-amplifier",
   "metadata": {},
   "source": [
    "## Excercise 2: Add Data to DVC\n",
    "\n",
    "1. Note the contents of data/.gitignore\n",
    "2. Copy our dataset to data/dvc_data.csv\n",
    "3. Add data to DVC & GIT: `dvc add data/dvc_data.csv`, `git add data/`, `git commit -m \"initial data\"`\n",
    "4. Check the content of following files:\n",
    " - data/dvc_data.csv.dvc\n",
    " - data/.gitignore\n",
    "\n",
    "\n",
    "**Questions**\n",
    "\n",
    "- How was our .gitignore changed?\n",
    "- What files did change in GIT?\n",
    "\n",
    "\n",
    "Hints: \n",
    "- Use `!cp src dest` to copy a file\n",
    "- Check git status using `git status`"
   ]
  },
  {
   "cell_type": "code",
   "execution_count": 8,
   "id": "ruled-preservation",
   "metadata": {},
   "outputs": [],
   "source": [
    "!cat data/.gitignore"
   ]
  },
  {
   "cell_type": "code",
   "execution_count": 5,
   "id": "cultural-basin",
   "metadata": {},
   "outputs": [
    {
     "name": "stdout",
     "output_type": "stream",
     "text": [
      "/home/jovyan/work/notebooks\n"
     ]
    }
   ],
   "source": [
    "!pwd"
   ]
  },
  {
   "cell_type": "code",
   "execution_count": 11,
   "id": "b1033881-16d1-4c24-b3f8-d6938af2f5ce",
   "metadata": {},
   "outputs": [],
   "source": [
    "!cp clean-loan-data.csv data/dvc_data.csv"
   ]
  },
  {
   "cell_type": "code",
   "execution_count": 12,
   "id": "0d904d1b-7bb7-4727-b1cb-0d8e80f12130",
   "metadata": {},
   "outputs": [
    {
     "name": "stdout",
     "output_type": "stream",
     "text": [
      "Adding...                                                                       \n",
      "!\u001b[A\n",
      "  0%|          |.Af7gXZ5gWKivyFYnaiGfod.tmp     0.00/380M [00:00<?,       ?it/s]\u001b[A\n",
      " 24%|██▍       |.Af7gXZ5gWKivyFYnaiGfod.tmp88.0M/362M [00:00<00:00,     920MB/s]\u001b[A\n",
      " 49%|████▊     |.Af7gXZ5gWKivyFYnaiGfod.tmp 176M/362M [00:00<00:00,     865MB/s]\u001b[A\n",
      " 72%|███████▏  |.Af7gXZ5gWKivyFYnaiGfod.tmp 259M/362M [00:00<00:00,     818MB/s]\u001b[A\n",
      " 93%|█████████▎|.Af7gXZ5gWKivyFYnaiGfod.tmp 338M/362M [00:00<00:00,     803MB/s]\u001b[A\n",
      "100% Add|██████████████████████████████████████████████|1/1 [00:01,  1.78s/file]\u001b[A\n",
      "\n",
      "To track the changes with git, run:\n",
      "\n",
      "\tgit add data/dvc_data.csv.dvc data/.gitignore\n",
      "\u001b[0m"
     ]
    }
   ],
   "source": [
    "!dvc add data/dvc_data.csv"
   ]
  },
  {
   "cell_type": "code",
   "execution_count": 14,
   "id": "366c18ac-1975-4f64-a1a5-f69b8a62b997",
   "metadata": {},
   "outputs": [],
   "source": [
    "!git add ."
   ]
  },
  {
   "cell_type": "code",
   "execution_count": 16,
   "id": "403afe4d-e629-44f1-97ee-2d6a2c4d5691",
   "metadata": {},
   "outputs": [
    {
     "name": "stdout",
     "output_type": "stream",
     "text": [
      "On branch main\n",
      "Your branch is up to date with 'origin/main'.\n",
      "\n",
      "Changes to be committed:\n",
      "  (use \"git restore --staged <file>...\" to unstage)\n",
      "\t\u001b[32mmodified:   00 - Explore Loan Data .ipynb\u001b[m\n",
      "\t\u001b[32mmodified:   01 - Eligibility Service Model.ipynb\u001b[m\n",
      "\t\u001b[32mmodified:   02 - DVC .ipynb\u001b[m\n",
      "\t\u001b[32mmodified:   data/.gitignore\u001b[m\n",
      "\t\u001b[32mnew file:   data/dvc_data.csv.dvc\u001b[m\n",
      "\t\u001b[32mmodified:   models/eligibility_pipeline.joblib\u001b[m\n",
      "\n",
      "Changes not staged for commit:\n",
      "  (use \"git add <file>...\" to update what will be committed)\n",
      "  (use \"git restore <file>...\" to discard changes in working directory)\n",
      "\t\u001b[31mmodified:   ../docker-compose.yml\u001b[m\n",
      "\t\u001b[31mmodified:   02 - DVC .ipynb\u001b[m\n",
      "\n"
     ]
    }
   ],
   "source": [
    "!git status"
   ]
  },
  {
   "cell_type": "code",
   "execution_count": 19,
   "id": "9d3113af-ff6a-4064-9f4c-1682a6be6b02",
   "metadata": {},
   "outputs": [],
   "source": [
    "!git add ../docker-compose.yml"
   ]
  },
  {
   "cell_type": "code",
   "execution_count": 20,
   "id": "28e7904c",
   "metadata": {},
   "outputs": [
    {
     "name": "stdout",
     "output_type": "stream",
     "text": [
      "On branch main\n",
      "Your branch is up to date with 'origin/main'.\n",
      "\n",
      "Changes to be committed:\n",
      "  (use \"git restore --staged <file>...\" to unstage)\n",
      "\t\u001b[32mmodified:   ../docker-compose.yml\u001b[m\n",
      "\t\u001b[32mmodified:   00 - Explore Loan Data .ipynb\u001b[m\n",
      "\t\u001b[32mmodified:   01 - Eligibility Service Model.ipynb\u001b[m\n",
      "\t\u001b[32mmodified:   02 - DVC .ipynb\u001b[m\n",
      "\t\u001b[32mmodified:   data/.gitignore\u001b[m\n",
      "\t\u001b[32mnew file:   data/dvc_data.csv.dvc\u001b[m\n",
      "\t\u001b[32mmodified:   models/eligibility_pipeline.joblib\u001b[m\n",
      "\n"
     ]
    }
   ],
   "source": [
    "!git status"
   ]
  },
  {
   "cell_type": "code",
   "execution_count": 22,
   "id": "1ec2169d-b142-460e-a781-3009377640c0",
   "metadata": {},
   "outputs": [
    {
     "name": "stdout",
     "output_type": "stream",
     "text": [
      "[main 2d886dc] initial data\n",
      " 7 files changed, 198 insertions(+), 306 deletions(-)\n",
      " rewrite notebooks/02 - DVC .ipynb (100%)\n",
      " create mode 100644 notebooks/data/dvc_data.csv.dvc\n"
     ]
    }
   ],
   "source": [
    "!git commit -m \"initial data\""
   ]
  },
  {
   "cell_type": "code",
   "execution_count": 23,
   "id": "a644685b-73fe-4650-916f-395c6926f3db",
   "metadata": {},
   "outputs": [
    {
     "name": "stdout",
     "output_type": "stream",
     "text": [
      "/dvc_data.csv\n"
     ]
    }
   ],
   "source": [
    "!cat data/.gitignore"
   ]
  },
  {
   "cell_type": "code",
   "execution_count": 24,
   "id": "978ed31e-afc9-4fae-b15f-42deee028541",
   "metadata": {},
   "outputs": [
    {
     "name": "stdout",
     "output_type": "stream",
     "text": [
      "outs:\n",
      "- md5: bdf3a78aba624df9fb975606c5c92b1c\n",
      "  size: 379763062\n",
      "  path: dvc_data.csv\n"
     ]
    }
   ],
   "source": [
    "!cat data/dvc_data.csv.dvc"
   ]
  },
  {
   "cell_type": "markdown",
   "id": "geological-begin",
   "metadata": {},
   "source": [
    "## Excercise 3: Get Data from DVC\n",
    "\n",
    "1. Remove data/dvc_data.csv using `rm data/dvc_data.csv`\n",
    "2. Get the data using `dvc checkout`"
   ]
  },
  {
   "cell_type": "code",
   "execution_count": 25,
   "id": "458e1cb5-33d0-41d6-9bf9-219aa3b1c7b9",
   "metadata": {},
   "outputs": [],
   "source": [
    "!rm data/dvc_data.csv"
   ]
  },
  {
   "cell_type": "code",
   "execution_count": 26,
   "id": "4099b86b-4612-48a2-acb4-311e3fe6729b",
   "metadata": {},
   "outputs": [
    {
     "name": "stdout",
     "output_type": "stream",
     "text": [
      "\u001b[33m+------------------------------------------+\n",
      "\u001b[0m\u001b[33m|\u001b[0m                                          \u001b[33m|\u001b[0m\n",
      "\u001b[33m|\u001b[0m     Update available \u001b[31m2.1.0\u001b[39m -> \u001b[32m2.10.2\u001b[39m     \u001b[33m|\u001b[0m\n",
      "\u001b[33m|\u001b[0m     Run `\u001b[33mpip\u001b[39m install dvc \u001b[34m--upgrade\u001b[39m`      \u001b[33m|\u001b[0m\n",
      "\u001b[33m|\u001b[0m                                          \u001b[33m|\u001b[0m\n",
      "\u001b[33m+------------------------------------------+\n",
      "\u001b[0m\n",
      "  0% Checkout|                                       |0/1 [00:00<?,     ?file/s]\n",
      "!\u001b[A\n",
      "  0%|          |.6GpxoCXrAmwc5NN3naBGCp.tmp     0.00/380M [00:00<?,       ?it/s]\u001b[A\n",
      " 21%|██        |.6GpxoCXrAmwc5NN3naBGCp.tmp75.0M/362M [00:00<00:00,     774MB/s]\u001b[A\n",
      " 41%|████      |.6GpxoCXrAmwc5NN3naBGCp.tmp 149M/362M [00:00<00:00,     458MB/s]\u001b[A\n",
      " 55%|█████▌    |.6GpxoCXrAmwc5NN3naBGCp.tmp 200M/362M [00:00<00:00,     425MB/s]\u001b[A\n",
      " 73%|███████▎  |.6GpxoCXrAmwc5NN3naBGCp.tmp 264M/362M [00:00<00:00,     496MB/s]\u001b[A\n",
      " 95%|█████████▌|.6GpxoCXrAmwc5NN3naBGCp.tmp 345M/362M [00:00<00:00,     598MB/s]\u001b[A\n",
      "\u001b[32mA\u001b[39m\tdata/dvc_data.csv                                                   \u001b[A\n",
      "\u001b[0m"
     ]
    }
   ],
   "source": [
    "!dvc checkout"
   ]
  },
  {
   "cell_type": "markdown",
   "id": "scenic-canon",
   "metadata": {},
   "source": [
    "## Excercise 4: Update Existing File\n",
    "\n",
    "Update the existing file. To update the file you first need to unprotect it:\n",
    "\n",
    "1. Unprotect file: `dvc unprotect data/dvc_data.csv`\n",
    "2. Change file contents\n",
    "  - `echo \"oops\" > data/dvc_data.csv`\n",
    "3. Add changes to version control\n",
    "  - `dvc add data/dvc_data.csv`\n",
    "  - `git add data/dvc_data.csv.dvc`\n",
    "4. Commit in Git: `git commit -m \"changed data\"`"
   ]
  },
  {
   "cell_type": "code",
   "execution_count": 27,
   "id": "8f5a0fca",
   "metadata": {},
   "outputs": [
    {
     "name": "stdout",
     "output_type": "stream",
     "text": [
      "\u001b[33m+------------------------------------------+\n",
      "\u001b[0m\u001b[33m|\u001b[0m                                          \u001b[33m|\u001b[0m\n",
      "\u001b[33m|\u001b[0m     Update available \u001b[31m2.1.0\u001b[39m -> \u001b[32m2.10.2\u001b[39m     \u001b[33m|\u001b[0m\n",
      "\u001b[33m|\u001b[0m     Run `\u001b[33mpip\u001b[39m install dvc \u001b[34m--upgrade\u001b[39m`      \u001b[33m|\u001b[0m\n",
      "\u001b[33m|\u001b[0m                                          \u001b[33m|\u001b[0m\n",
      "\u001b[33m+------------------------------------------+\n",
      "\u001b[0m\n",
      "\u001b[0m"
     ]
    }
   ],
   "source": [
    "!dvc unprotect data/dvc_data.csv"
   ]
  },
  {
   "cell_type": "code",
   "execution_count": 30,
   "id": "b8cfd306-d7a4-4e3c-8e59-9c49f176bde6",
   "metadata": {},
   "outputs": [],
   "source": [
    "!echo \"oops\" > data/dvc_data.csv"
   ]
  },
  {
   "cell_type": "code",
   "execution_count": 34,
   "id": "acc710ab-b3f3-49c8-a179-1fc447ff5cdc",
   "metadata": {},
   "outputs": [
    {
     "name": "stdout",
     "output_type": "stream",
     "text": [
      "\u001b[?25l                                                                          \u001b[32m⠋\u001b[0m Checking graph\n",
      "Adding...                                                                       \n",
      "!\u001b[A\n",
      "  0%|          |.GjYqhnKAfYahCuZ9Sjnnb8.tmp        0.00/? [00:00<?,        ?B/s]\u001b[A\n",
      "  0%|          |.GjYqhnKAfYahCuZ9Sjnnb8.tmp     0.00/4.00 [00:00<?,        ?B/s]\u001b[A\n",
      "                                                                                \u001b[A\n",
      "!\u001b[A\n",
      "  0%|          |af5c54926b620264ab1501150cf189     0.00/? [00:00<?,        ?B/s]\u001b[A\n",
      "  0%|          |af5c54926b620264ab1501150cf189  0.00/5.00 [00:00<?,        ?B/s]\u001b[A\n",
      "100% Adding...|████████████████████████████████████████|1/1 [00:00, 48.90file/s]\u001b[A\n",
      "\n",
      "To track the changes with git, run:\n",
      "\n",
      "    git add data/dvc_data.csv.dvc\n",
      "\n",
      "To enable auto staging, run:\n",
      "\n",
      "\tdvc config core.autostage true\n",
      "\u001b[0m"
     ]
    }
   ],
   "source": [
    "!dvc add data/dvc_data.csv"
   ]
  },
  {
   "cell_type": "code",
   "execution_count": 35,
   "id": "3c43572b-4489-4645-9214-d999cdf22171",
   "metadata": {},
   "outputs": [
    {
     "name": "stdout",
     "output_type": "stream",
     "text": [
      "On branch main\n",
      "Your branch is ahead of 'origin/main' by 1 commit.\n",
      "  (use \"git push\" to publish your local commits)\n",
      "\n",
      "Changes not staged for commit:\n",
      "  (use \"git add <file>...\" to update what will be committed)\n",
      "  (use \"git restore <file>...\" to discard changes in working directory)\n",
      "\t\u001b[31mmodified:   02 - DVC .ipynb\u001b[m\n",
      "\t\u001b[31mmodified:   data/dvc_data.csv.dvc\u001b[m\n",
      "\n",
      "no changes added to commit (use \"git add\" and/or \"git commit -a\")\n"
     ]
    }
   ],
   "source": [
    "!git status"
   ]
  },
  {
   "cell_type": "code",
   "execution_count": 36,
   "id": "264c5b29-cfba-4ce1-8d3b-028a20d3109a",
   "metadata": {},
   "outputs": [],
   "source": [
    "!git add data/dvc_data.csv.dvc"
   ]
  },
  {
   "cell_type": "code",
   "execution_count": 37,
   "id": "7ce0be71-f035-4896-9d8d-58fc312b698f",
   "metadata": {},
   "outputs": [
    {
     "name": "stdout",
     "output_type": "stream",
     "text": [
      "On branch main\n",
      "Your branch is ahead of 'origin/main' by 1 commit.\n",
      "  (use \"git push\" to publish your local commits)\n",
      "\n",
      "Changes to be committed:\n",
      "  (use \"git restore --staged <file>...\" to unstage)\n",
      "\t\u001b[32mmodified:   data/dvc_data.csv.dvc\u001b[m\n",
      "\n",
      "Changes not staged for commit:\n",
      "  (use \"git add <file>...\" to update what will be committed)\n",
      "  (use \"git restore <file>...\" to discard changes in working directory)\n",
      "\t\u001b[31mmodified:   02 - DVC .ipynb\u001b[m\n",
      "\n"
     ]
    }
   ],
   "source": [
    "!git status"
   ]
  },
  {
   "cell_type": "code",
   "execution_count": null,
   "id": "326606aa-786f-44c2-bf55-afd55b3beeb1",
   "metadata": {},
   "outputs": [],
   "source": [
    "!"
   ]
  },
  {
   "cell_type": "code",
   "execution_count": null,
   "id": "f037f4fd-e84d-4fc8-8444-ae5573abf5c5",
   "metadata": {},
   "outputs": [],
   "source": []
  },
  {
   "cell_type": "code",
   "execution_count": null,
   "id": "af4b6c9b-5380-430d-840c-af74bb271ee8",
   "metadata": {},
   "outputs": [],
   "source": []
  },
  {
   "cell_type": "markdown",
   "id": "competitive-investigation",
   "metadata": {},
   "source": [
    "## Excercise 5: Revert 'oops' change1\n",
    "\n",
    "Check the content of our data file : `tail data/dvc_data.csv`\n",
    "\n",
    "'oops' is for sure not ideal training data. \n",
    "\n",
    "Revert our bad changes using git:\n",
    "\n",
    "- `git revert HEAD --no-edit`\n",
    "\n",
    "Fetch data again:\n",
    "- `dvc checkout`\n",
    "- Check result: `tail data/dvc_data.csv`"
   ]
  },
  {
   "cell_type": "code",
   "execution_count": null,
   "id": "d08a7c6c",
   "metadata": {},
   "outputs": [],
   "source": []
  },
  {
   "cell_type": "markdown",
   "id": "double-petersburg",
   "metadata": {},
   "source": [
    "## Excercise 5: Share data with teammates\n",
    "\n",
    "1. Add a DVC remote: `dvc remote add -d myremote gs://mlinproduction/<yourname>`\n",
    "2. Push dvc data: `dvc push`\n",
    "3. Check results: `dvc pull`and `dvc status`"
   ]
  },
  {
   "cell_type": "code",
   "execution_count": null,
   "id": "87c0b2a4",
   "metadata": {},
   "outputs": [],
   "source": []
  },
  {
   "cell_type": "markdown",
   "id": "adjusted-while",
   "metadata": {},
   "source": [
    "## Bonus Excercise: Try to pull data from another teammate to your repository\n",
    "\n",
    "If you still have time, you can try to pull data from a teammate to your repository.\n",
    "\n",
    "Hint: \n",
    "- You can use `dvc import` or `dvc get`. Check the documentation"
   ]
  }
 ],
 "metadata": {
  "kernelspec": {
   "display_name": "Python 3",
   "language": "python",
   "name": "python3"
  },
  "language_info": {
   "codemirror_mode": {
    "name": "ipython",
    "version": 3
   },
   "file_extension": ".py",
   "mimetype": "text/x-python",
   "name": "python",
   "nbconvert_exporter": "python",
   "pygments_lexer": "ipython3",
   "version": "3.8.8"
  }
 },
 "nbformat": 4,
 "nbformat_minor": 5
}
