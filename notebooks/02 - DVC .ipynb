{
 "cells": [
  {
   "cell_type": "markdown",
   "id": "productive-symphony",
   "metadata": {},
   "source": [
    "# Excercise 2: DVC\n",
    "\n",
    "Data Version Control"
   ]
  },
  {
   "cell_type": "markdown",
   "id": "vital-hughes",
   "metadata": {},
   "source": [
    "## Excercise 1: Create own branch\n",
    "\n",
    "\n",
    "It is possible to execute bash statements by prepending them with `!`\n",
    "\n",
    "\n",
    "\n",
    "\n"
   ]
  },
  {
   "cell_type": "code",
   "execution_count": 1,
   "id": "infrared-visitor",
   "metadata": {},
   "outputs": [
    {
     "name": "stdout",
     "output_type": "stream",
     "text": [
      "total 458048\n",
      "-rwxr-xr-x 1 jovyan  1000    472675 May 21 09:55 '00 - Explore Loan Data .ipynb'\n",
      "-rwxr-xr-x 1 jovyan  1000     33892 May 21 11:31 '01 - Eligibility Service Model.ipynb'\n",
      "-rwxr-xr-x 1 jovyan  1000      6542 May 21 06:44 '02 - DVC .ipynb'\n",
      "-rwxr-xr-x 1 jovyan  1000      4173 May 21 06:44 '03 - Eligibility Service Tracking.ipynb'\n",
      "-rwxr-xr-x 1 jovyan  1000      4643 May 21 06:44 '04 - Containerization.ipynb'\n",
      "-rw-r--r-- 1 jovyan  1000      4504 May 21 06:44 '05 - Cloud Deployment.ipynb'\n",
      "-rw-r--r-- 1 jovyan  1000      5940 May 21 06:44 '06 - Monitoring.ipynb'\n",
      "-rw-r--r-- 1 jovyan  1000      6407 May 21 06:44 '07 - Fault Tolerance.ipynb'\n",
      "-rw-r--r-- 1 jovyan  1000      5007 May 21 06:44 '08 - Release Strategies.ipynb'\n",
      "drwxr-xr-x 3 jovyan  1000      4096 May 21 06:44  artifacts\n",
      "-rw-r--r-- 1 jovyan users 379763062 May 21 09:54  clean-loan-data.csv\n",
      "-rw-r--r-- 1 jovyan  1000  88686828 May 21 06:44  clean-loan-data.csv.gz\n",
      "drwxr-xr-x 2 jovyan  1000      4096 May 21 06:44  data\n",
      "drwxr-xr-x 2 jovyan  1000      4096 May 21 06:44  models\n"
     ]
    }
   ],
   "source": [
    "!ls -l ."
   ]
  },
  {
   "cell_type": "markdown",
   "id": "canadian-glucose",
   "metadata": {},
   "source": [
    "Create a git branch:\n",
    "\n",
    "- Add your gitinfo: \n",
    "  - `git config user.email \"you@example.com\"`\n",
    "  - `git config user.name \"Your Name\"`\n",
    "- name your branch with your name. Eg. `git checkout -b florian`\n"
   ]
  },
  {
   "cell_type": "code",
   "execution_count": 7,
   "id": "amateur-round",
   "metadata": {},
   "outputs": [],
   "source": [
    "!cat data/.gitignore"
   ]
  },
  {
   "cell_type": "code",
   "execution_count": 6,
   "id": "792ed55a",
   "metadata": {},
   "outputs": [],
   "source": [
    "!git config --global user.email \"myName@example.com\"\n",
    "!git config --global user.name \"My Name\""
   ]
  },
  {
   "cell_type": "markdown",
   "id": "excited-amplifier",
   "metadata": {},
   "source": [
    "## Excercise 2: Add Data to DVC\n",
    "\n",
    "1. Note the contents of data/.gitignore\n",
    "2. Copy our dataset to data/dvc_data.csv\n",
    "3. Add data to DVC & GIT: `dvc add data/dvc_data.csv`, `git add data/`, `git commit -m \"initial data\"`\n",
    "4. Check the content of following files:\n",
    " - data/dvc_data.csv.dvc\n",
    " - data/.gitignore\n",
    "\n",
    "\n",
    "**Questions**\n",
    "\n",
    "- How was our .gitignore changed?\n",
    "- What files did change in GIT?\n",
    "\n",
    "\n",
    "Hints: \n",
    "- Use `!cp src dest` to copy a file\n",
    "- Check git status using `git status`"
   ]
  },
  {
   "cell_type": "code",
   "execution_count": 8,
   "id": "ruled-preservation",
   "metadata": {},
   "outputs": [],
   "source": [
    "!cat data/.gitignore"
   ]
  },
  {
   "cell_type": "code",
   "execution_count": 5,
   "id": "cultural-basin",
   "metadata": {},
   "outputs": [
    {
     "name": "stdout",
     "output_type": "stream",
     "text": [
      "/home/jovyan/work/notebooks\n"
     ]
    }
   ],
   "source": [
    "!pwd"
   ]
  },
  {
   "cell_type": "code",
   "execution_count": 11,
   "id": "b1033881-16d1-4c24-b3f8-d6938af2f5ce",
   "metadata": {},
   "outputs": [],
   "source": [
    "!cp clean-loan-data.csv data/dvc_data.csv"
   ]
  },
  {
   "cell_type": "code",
   "execution_count": 12,
   "id": "0d904d1b-7bb7-4727-b1cb-0d8e80f12130",
   "metadata": {},
   "outputs": [
    {
     "name": "stdout",
     "output_type": "stream",
     "text": [
      "Adding...                                                                       \n",
      "!\u001b[A\n",
      "  0%|          |.Af7gXZ5gWKivyFYnaiGfod.tmp     0.00/380M [00:00<?,       ?it/s]\u001b[A\n",
      " 24%|██▍       |.Af7gXZ5gWKivyFYnaiGfod.tmp88.0M/362M [00:00<00:00,     920MB/s]\u001b[A\n",
      " 49%|████▊     |.Af7gXZ5gWKivyFYnaiGfod.tmp 176M/362M [00:00<00:00,     865MB/s]\u001b[A\n",
      " 72%|███████▏  |.Af7gXZ5gWKivyFYnaiGfod.tmp 259M/362M [00:00<00:00,     818MB/s]\u001b[A\n",
      " 93%|█████████▎|.Af7gXZ5gWKivyFYnaiGfod.tmp 338M/362M [00:00<00:00,     803MB/s]\u001b[A\n",
      "100% Add|██████████████████████████████████████████████|1/1 [00:01,  1.78s/file]\u001b[A\n",
      "\n",
      "To track the changes with git, run:\n",
      "\n",
      "\tgit add data/dvc_data.csv.dvc data/.gitignore\n",
      "\u001b[0m"
     ]
    }
   ],
   "source": [
    "!dvc add data/dvc_data.csv"
   ]
  },
  {
   "cell_type": "code",
   "execution_count": 14,
   "id": "366c18ac-1975-4f64-a1a5-f69b8a62b997",
   "metadata": {},
   "outputs": [],
   "source": [
    "!git add ."
   ]
  },
  {
   "cell_type": "code",
   "execution_count": 16,
   "id": "403afe4d-e629-44f1-97ee-2d6a2c4d5691",
   "metadata": {},
   "outputs": [
    {
     "name": "stdout",
     "output_type": "stream",
     "text": [
      "On branch main\n",
      "Your branch is up to date with 'origin/main'.\n",
      "\n",
      "Changes to be committed:\n",
      "  (use \"git restore --staged <file>...\" to unstage)\n",
      "\t\u001b[32mmodified:   00 - Explore Loan Data .ipynb\u001b[m\n",
      "\t\u001b[32mmodified:   01 - Eligibility Service Model.ipynb\u001b[m\n",
      "\t\u001b[32mmodified:   02 - DVC .ipynb\u001b[m\n",
      "\t\u001b[32mmodified:   data/.gitignore\u001b[m\n",
      "\t\u001b[32mnew file:   data/dvc_data.csv.dvc\u001b[m\n",
      "\t\u001b[32mmodified:   models/eligibility_pipeline.joblib\u001b[m\n",
      "\n",
      "Changes not staged for commit:\n",
      "  (use \"git add <file>...\" to update what will be committed)\n",
      "  (use \"git restore <file>...\" to discard changes in working directory)\n",
      "\t\u001b[31mmodified:   ../docker-compose.yml\u001b[m\n",
      "\t\u001b[31mmodified:   02 - DVC .ipynb\u001b[m\n",
      "\n"
     ]
    }
   ],
   "source": [
    "!git status"
   ]
  },
  {
   "cell_type": "code",
   "execution_count": 19,
   "id": "9d3113af-ff6a-4064-9f4c-1682a6be6b02",
   "metadata": {},
   "outputs": [],
   "source": [
    "!git add ../docker-compose.yml"
   ]
  },
  {
   "cell_type": "code",
   "execution_count": 20,
   "id": "28e7904c",
   "metadata": {},
   "outputs": [
    {
     "name": "stdout",
     "output_type": "stream",
     "text": [
      "On branch main\n",
      "Your branch is up to date with 'origin/main'.\n",
      "\n",
      "Changes to be committed:\n",
      "  (use \"git restore --staged <file>...\" to unstage)\n",
      "\t\u001b[32mmodified:   ../docker-compose.yml\u001b[m\n",
      "\t\u001b[32mmodified:   00 - Explore Loan Data .ipynb\u001b[m\n",
      "\t\u001b[32mmodified:   01 - Eligibility Service Model.ipynb\u001b[m\n",
      "\t\u001b[32mmodified:   02 - DVC .ipynb\u001b[m\n",
      "\t\u001b[32mmodified:   data/.gitignore\u001b[m\n",
      "\t\u001b[32mnew file:   data/dvc_data.csv.dvc\u001b[m\n",
      "\t\u001b[32mmodified:   models/eligibility_pipeline.joblib\u001b[m\n",
      "\n"
     ]
    }
   ],
   "source": [
    "!git status"
   ]
  },
  {
   "cell_type": "code",
   "execution_count": 22,
   "id": "1ec2169d-b142-460e-a781-3009377640c0",
   "metadata": {},
   "outputs": [
    {
     "name": "stdout",
     "output_type": "stream",
     "text": [
      "[main 2d886dc] initial data\n",
      " 7 files changed, 198 insertions(+), 306 deletions(-)\n",
      " rewrite notebooks/02 - DVC .ipynb (100%)\n",
      " create mode 100644 notebooks/data/dvc_data.csv.dvc\n"
     ]
    }
   ],
   "source": [
    "!git commit -m \"initial data\""
   ]
  },
  {
   "cell_type": "code",
   "execution_count": 23,
   "id": "a644685b-73fe-4650-916f-395c6926f3db",
   "metadata": {},
   "outputs": [
    {
     "name": "stdout",
     "output_type": "stream",
     "text": [
      "/dvc_data.csv\n"
     ]
    }
   ],
   "source": [
    "!cat data/.gitignore"
   ]
  },
  {
   "cell_type": "code",
   "execution_count": 24,
   "id": "978ed31e-afc9-4fae-b15f-42deee028541",
   "metadata": {},
   "outputs": [
    {
     "name": "stdout",
     "output_type": "stream",
     "text": [
      "outs:\n",
      "- md5: bdf3a78aba624df9fb975606c5c92b1c\n",
      "  size: 379763062\n",
      "  path: dvc_data.csv\n"
     ]
    }
   ],
   "source": [
    "!cat data/dvc_data.csv.dvc"
   ]
  },
  {
   "cell_type": "markdown",
   "id": "geological-begin",
   "metadata": {},
   "source": [
    "## Excercise 3: Get Data from DVC\n",
    "\n",
    "1. Remove data/dvc_data.csv using `rm data/dvc_data.csv`\n",
    "2. Get the data using `dvc checkout`"
   ]
  },
  {
   "cell_type": "code",
   "execution_count": 25,
   "id": "458e1cb5-33d0-41d6-9bf9-219aa3b1c7b9",
   "metadata": {},
   "outputs": [],
   "source": [
    "!rm data/dvc_data.csv"
   ]
  },
  {
   "cell_type": "code",
   "execution_count": 26,
   "id": "4099b86b-4612-48a2-acb4-311e3fe6729b",
   "metadata": {},
   "outputs": [
    {
     "name": "stdout",
     "output_type": "stream",
     "text": [
      "\u001b[33m+------------------------------------------+\n",
      "\u001b[0m\u001b[33m|\u001b[0m                                          \u001b[33m|\u001b[0m\n",
      "\u001b[33m|\u001b[0m     Update available \u001b[31m2.1.0\u001b[39m -> \u001b[32m2.10.2\u001b[39m     \u001b[33m|\u001b[0m\n",
      "\u001b[33m|\u001b[0m     Run `\u001b[33mpip\u001b[39m install dvc \u001b[34m--upgrade\u001b[39m`      \u001b[33m|\u001b[0m\n",
      "\u001b[33m|\u001b[0m                                          \u001b[33m|\u001b[0m\n",
      "\u001b[33m+------------------------------------------+\n",
      "\u001b[0m\n",
      "  0% Checkout|                                       |0/1 [00:00<?,     ?file/s]\n",
      "!\u001b[A\n",
      "  0%|          |.6GpxoCXrAmwc5NN3naBGCp.tmp     0.00/380M [00:00<?,       ?it/s]\u001b[A\n",
      " 21%|██        |.6GpxoCXrAmwc5NN3naBGCp.tmp75.0M/362M [00:00<00:00,     774MB/s]\u001b[A\n",
      " 41%|████      |.6GpxoCXrAmwc5NN3naBGCp.tmp 149M/362M [00:00<00:00,     458MB/s]\u001b[A\n",
      " 55%|█████▌    |.6GpxoCXrAmwc5NN3naBGCp.tmp 200M/362M [00:00<00:00,     425MB/s]\u001b[A\n",
      " 73%|███████▎  |.6GpxoCXrAmwc5NN3naBGCp.tmp 264M/362M [00:00<00:00,     496MB/s]\u001b[A\n",
      " 95%|█████████▌|.6GpxoCXrAmwc5NN3naBGCp.tmp 345M/362M [00:00<00:00,     598MB/s]\u001b[A\n",
      "\u001b[32mA\u001b[39m\tdata/dvc_data.csv                                                   \u001b[A\n",
      "\u001b[0m"
     ]
    }
   ],
   "source": [
    "!dvc checkout"
   ]
  },
  {
   "cell_type": "markdown",
   "id": "scenic-canon",
   "metadata": {},
   "source": [
    "## Excercise 4: Update Existing File\n",
    "\n",
    "Update the existing file. To update the file you first need to unprotect it:\n",
    "\n",
    "1. Unprotect file: `dvc unprotect data/dvc_data.csv`\n",
    "2. Change file contents\n",
    "  - `echo \"oops\" > data/dvc_data.csv`\n",
    "3. Add changes to version control\n",
    "  - `dvc add data/dvc_data.csv`\n",
    "  - `git add data/dvc_data.csv.dvc`\n",
    "4. Commit in Git: `git commit -m \"changed data\"`"
   ]
  },
  {
   "cell_type": "code",
   "execution_count": 27,
   "id": "8f5a0fca",
   "metadata": {},
   "outputs": [
    {
     "name": "stdout",
     "output_type": "stream",
     "text": [
      "\u001b[33m+------------------------------------------+\n",
      "\u001b[0m\u001b[33m|\u001b[0m                                          \u001b[33m|\u001b[0m\n",
      "\u001b[33m|\u001b[0m     Update available \u001b[31m2.1.0\u001b[39m -> \u001b[32m2.10.2\u001b[39m     \u001b[33m|\u001b[0m\n",
      "\u001b[33m|\u001b[0m     Run `\u001b[33mpip\u001b[39m install dvc \u001b[34m--upgrade\u001b[39m`      \u001b[33m|\u001b[0m\n",
      "\u001b[33m|\u001b[0m                                          \u001b[33m|\u001b[0m\n",
      "\u001b[33m+------------------------------------------+\n",
      "\u001b[0m\n",
      "\u001b[0m"
     ]
    }
   ],
   "source": [
    "!dvc unprotect data/dvc_data.csv"
   ]
  },
  {
   "cell_type": "code",
   "execution_count": 30,
   "id": "b8cfd306-d7a4-4e3c-8e59-9c49f176bde6",
   "metadata": {},
   "outputs": [],
   "source": [
    "!echo \"oops\" > data/dvc_data.csv"
   ]
  },
  {
   "cell_type": "code",
   "execution_count": 34,
   "id": "acc710ab-b3f3-49c8-a179-1fc447ff5cdc",
   "metadata": {},
   "outputs": [
    {
     "name": "stdout",
     "output_type": "stream",
     "text": [
      "\u001b[?25l                                                                          \u001b[32m⠋\u001b[0m Checking graph\n",
      "Adding...                                                                       \n",
      "!\u001b[A\n",
      "  0%|          |.GjYqhnKAfYahCuZ9Sjnnb8.tmp        0.00/? [00:00<?,        ?B/s]\u001b[A\n",
      "  0%|          |.GjYqhnKAfYahCuZ9Sjnnb8.tmp     0.00/4.00 [00:00<?,        ?B/s]\u001b[A\n",
      "                                                                                \u001b[A\n",
      "!\u001b[A\n",
      "  0%|          |af5c54926b620264ab1501150cf189     0.00/? [00:00<?,        ?B/s]\u001b[A\n",
      "  0%|          |af5c54926b620264ab1501150cf189  0.00/5.00 [00:00<?,        ?B/s]\u001b[A\n",
      "100% Adding...|████████████████████████████████████████|1/1 [00:00, 48.90file/s]\u001b[A\n",
      "\n",
      "To track the changes with git, run:\n",
      "\n",
      "    git add data/dvc_data.csv.dvc\n",
      "\n",
      "To enable auto staging, run:\n",
      "\n",
      "\tdvc config core.autostage true\n",
      "\u001b[0m"
     ]
    }
   ],
   "source": [
    "!dvc add data/dvc_data.csv"
   ]
  },
  {
   "cell_type": "code",
   "execution_count": 35,
   "id": "3c43572b-4489-4645-9214-d999cdf22171",
   "metadata": {},
   "outputs": [
    {
     "name": "stdout",
     "output_type": "stream",
     "text": [
      "On branch main\n",
      "Your branch is ahead of 'origin/main' by 1 commit.\n",
      "  (use \"git push\" to publish your local commits)\n",
      "\n",
      "Changes not staged for commit:\n",
      "  (use \"git add <file>...\" to update what will be committed)\n",
      "  (use \"git restore <file>...\" to discard changes in working directory)\n",
      "\t\u001b[31mmodified:   02 - DVC .ipynb\u001b[m\n",
      "\t\u001b[31mmodified:   data/dvc_data.csv.dvc\u001b[m\n",
      "\n",
      "no changes added to commit (use \"git add\" and/or \"git commit -a\")\n"
     ]
    }
   ],
   "source": [
    "!git status"
   ]
  },
  {
   "cell_type": "code",
   "execution_count": 36,
   "id": "264c5b29-cfba-4ce1-8d3b-028a20d3109a",
   "metadata": {},
   "outputs": [],
   "source": [
    "!git add data/dvc_data.csv.dvc"
   ]
  },
  {
   "cell_type": "code",
   "execution_count": 37,
   "id": "7ce0be71-f035-4896-9d8d-58fc312b698f",
   "metadata": {},
   "outputs": [
    {
     "name": "stdout",
     "output_type": "stream",
     "text": [
      "On branch main\n",
      "Your branch is ahead of 'origin/main' by 1 commit.\n",
      "  (use \"git push\" to publish your local commits)\n",
      "\n",
      "Changes to be committed:\n",
      "  (use \"git restore --staged <file>...\" to unstage)\n",
      "\t\u001b[32mmodified:   data/dvc_data.csv.dvc\u001b[m\n",
      "\n",
      "Changes not staged for commit:\n",
      "  (use \"git add <file>...\" to update what will be committed)\n",
      "  (use \"git restore <file>...\" to discard changes in working directory)\n",
      "\t\u001b[31mmodified:   02 - DVC .ipynb\u001b[m\n",
      "\n"
     ]
    }
   ],
   "source": [
    "!git status"
   ]
  },
  {
   "cell_type": "code",
   "execution_count": 39,
   "id": "326606aa-786f-44c2-bf55-afd55b3beeb1",
   "metadata": {},
   "outputs": [],
   "source": [
    "!git add \"02 - DVC .ipynb\""
   ]
  },
  {
   "cell_type": "code",
   "execution_count": 40,
   "id": "f037f4fd-e84d-4fc8-8444-ae5573abf5c5",
   "metadata": {},
   "outputs": [
    {
     "name": "stdout",
     "output_type": "stream",
     "text": [
      "On branch main\n",
      "Your branch is ahead of 'origin/main' by 1 commit.\n",
      "  (use \"git push\" to publish your local commits)\n",
      "\n",
      "Changes to be committed:\n",
      "  (use \"git restore --staged <file>...\" to unstage)\n",
      "\t\u001b[32mmodified:   02 - DVC .ipynb\u001b[m\n",
      "\t\u001b[32mmodified:   data/dvc_data.csv.dvc\u001b[m\n",
      "\n"
     ]
    }
   ],
   "source": [
    "!git status"
   ]
  },
  {
   "cell_type": "code",
   "execution_count": 41,
   "id": "af4b6c9b-5380-430d-840c-af74bb271ee8",
   "metadata": {},
   "outputs": [
    {
     "name": "stdout",
     "output_type": "stream",
     "text": [
      "[main c3c51c1] changed data\n",
      " 2 files changed, 286 insertions(+), 29 deletions(-)\n"
     ]
    }
   ],
   "source": [
    "!git commit -m \"changed data\""
   ]
  },
  {
   "cell_type": "code",
   "execution_count": 54,
   "id": "60c2f21c-0fe1-421e-b5bb-79a3d11db8a9",
   "metadata": {},
   "outputs": [
    {
     "name": "stdout",
     "output_type": "stream",
     "text": [
      "\u001b[33mcommit 9321e3d52dc8b6ec974f3011a8ff051924b1a726\u001b[m\u001b[33m (\u001b[m\u001b[1;36mHEAD -> \u001b[m\u001b[1;32mmain\u001b[m\u001b[33m)\u001b[m\n",
      "Author: My Name <myName@example.com>\n",
      "Date:   Sat May 21 12:25:32 2022 +0000\n",
      "\n",
      "    Revert \"changed data\"\n",
      "    \n",
      "    This reverts commit c3c51c14288c37442e8fb9b21128d4ee283b0139.\n",
      "\n",
      "\u001b[33mcommit c3c51c14288c37442e8fb9b21128d4ee283b0139\u001b[m\n",
      "Author: My Name <myName@example.com>\n",
      "Date:   Sat May 21 12:18:37 2022 +0000\n",
      "\n",
      "    changed data\n",
      "\n",
      "\u001b[33mcommit 2d886dc55ed8c3a361d4965828e44e610dbdc4cf\u001b[m\n",
      "Author: My Name <myName@example.com>\n",
      "Date:   Sat May 21 12:11:11 2022 +0000\n",
      "\n",
      "    initial data\n",
      "\n",
      "\u001b[33mcommit 37dd39f4926223dea01056b39120d604ce19b027\u001b[m\u001b[33m (\u001b[m\u001b[1;31morigin/main\u001b[m\u001b[33m, \u001b[m\u001b[1;31morigin/HEAD\u001b[m\u001b[33m)\u001b[m\n",
      "Author: Florian Lüscher <florian.luescher@dsiag.ch>\n",
      "Date:   Wed May 18 15:25:15 2022 +0200\n",
      "\n",
      "    Fix mlflow URL\n",
      "\n",
      "\u001b[33mcommit f07dcd95cf0332db8b48c84069fe2e44ce872ce7\u001b[m\n",
      "Author: Florian Lüscher <florian.luescher@dsiag.ch>\n",
      "Date:   Tue May 17 18:08:02 2022 +0200\n",
      "\n",
      "    Use same image as jupyter notebooks\n"
     ]
    }
   ],
   "source": [
    "!git log -5"
   ]
  },
  {
   "cell_type": "markdown",
   "id": "competitive-investigation",
   "metadata": {},
   "source": [
    "## Excercise 5: Revert 'oops' change1\n",
    "\n",
    "Check the content of our data file : `tail data/dvc_data.csv`\n",
    "\n",
    "'oops' is for sure not ideal training data. \n",
    "\n",
    "Revert our bad changes using git:\n",
    "\n",
    "- `git revert HEAD --no-edit`\n",
    "\n",
    "Fetch data again:\n",
    "- `dvc checkout`\n",
    "- Check result: `tail data/dvc_data.csv`"
   ]
  },
  {
   "cell_type": "code",
   "execution_count": 43,
   "id": "d08a7c6c",
   "metadata": {},
   "outputs": [
    {
     "name": "stdout",
     "output_type": "stream",
     "text": [
      "oops\n"
     ]
    }
   ],
   "source": [
    "!tail data/dvc_data.csv"
   ]
  },
  {
   "cell_type": "code",
   "execution_count": 45,
   "id": "8e915ac6-1f2c-4ce5-bf4f-9afb7f66dfd1",
   "metadata": {},
   "outputs": [
    {
     "name": "stdout",
     "output_type": "stream",
     "text": [
      "Saved working directory and index state WIP on main: c3c51c1 changed data\n",
      "[main 9321e3d] Revert \"changed data\"\n",
      " Date: Sat May 21 12:25:32 2022 +0000\n",
      " 2 files changed, 29 insertions(+), 286 deletions(-)\n"
     ]
    }
   ],
   "source": [
    "!git stash\n",
    "!git revert HEAD --no-edit"
   ]
  },
  {
   "cell_type": "code",
   "execution_count": 46,
   "id": "1dd98224-1c80-44ea-a79e-969daa05c489",
   "metadata": {},
   "outputs": [
    {
     "name": "stdout",
     "output_type": "stream",
     "text": [
      "oops\n"
     ]
    }
   ],
   "source": [
    "!tail data/dvc_data.csv"
   ]
  },
  {
   "cell_type": "code",
   "execution_count": 47,
   "id": "6f4d34d9-8430-4b71-ae48-b31cfb42cda0",
   "metadata": {},
   "outputs": [
    {
     "name": "stdout",
     "output_type": "stream",
     "text": [
      "  0% Checkout|                                       |0/1 [00:00<?,     ?file/s]\n",
      "!\u001b[A\n",
      "  0%|          |.LGjEV2YGaN3B3vcHroowbJ.tmp        0.00/? [00:00<?,        ?B/s]\u001b[A\n",
      "  0%|          |.LGjEV2YGaN3B3vcHroowbJ.tmp     0.00/4.00 [00:00<?,        ?B/s]\u001b[A\n",
      "                                                                                \u001b[A\n",
      "!\u001b[A\n",
      "  0%|          |f3a78aba624df9fb975606c5c92b1c     0.00/? [00:00<?,        ?B/s]\u001b[A\n",
      "  0%|          |f3a78aba624df9fb975606c5c92b1c  0.00/362M [00:00<?,        ?B/s]\u001b[A\n",
      " 27%|██▋       |f3a78aba624df9fb975606c5c9298.0M/362M [00:00<00:00,    1.03GB/s]\u001b[A\n",
      " 51%|█████     |f3a78aba624df9fb975606c5c92b183M/362M [00:00<00:00,     943MB/s]\u001b[A\n",
      " 74%|███████▍  |f3a78aba624df9fb975606c5c92b268M/362M [00:00<00:00,     919MB/s]\u001b[A\n",
      " 88%|████████▊ |f3a78aba624df9fb975606c5c92b317M/362M [00:00<00:00,     624MB/s]\u001b[A\n",
      " 88%|████████▊ |f3a78aba624df9fb975606c5c92b319M/362M [00:00<00:00,     424MB/s]\u001b[A\n",
      " 94%|█████████▍|f3a78aba624df9fb975606c5c92b340M/362M [00:00<00:00,     357MB/s]\u001b[A\n",
      "\u001b[33mM\u001b[0m       data/dvc_data.csv                                              \u001b[A\n",
      "\u001b[0m"
     ]
    }
   ],
   "source": [
    "!dvc checkout"
   ]
  },
  {
   "cell_type": "code",
   "execution_count": 49,
   "id": "aa8af1f8-14f9-49db-b12e-e48ce3418b4a",
   "metadata": {},
   "outputs": [
    {
     "name": "stdout",
     "output_type": "stream",
     "text": [
      "36490806,39222577,12000.0,12000.0,12000.0, 60,19.99,317.86,E,E3,Painter,1,RENT,64400.0,Source Verified,Jan,2015,Current,n,https://www.lendingclub.com/browse/loanDetail.action?loan_id=36490806,debt_consolidation,Debt consolidation,010xx,MA,27.19,1.0,Oct,2003,2.0,22.0,17.0,0.0,8254.0,30.6,20.0,w,10447.31,10447.31,3787.67,3787.67,1552.69,2234.98,0.0,0.0,0.0,Jan,2016,317.86,Feb,2016,Jan,2016,1.0,1.0,INDIVIDUAL,0.0,0.0,58418.0,27000.0\n",
      "36271262,38982659,20000.0,20000.0,20000.0, 36,11.99,664.2,B,B5,Manager Hotel Operations Oasis ,10,RENT,100000.0,Verified,Jan,2015,Current,n,https://www.lendingclub.com/browse/loanDetail.action?loan_id=36271262,credit_card,Credit card refinancing,331xx,FL,10.83,0.0,Dec,2001,1.0,,8.0,1.0,33266.0,79.8,10.0,f,14110.94,14110.94,7943.76,7943.76,5889.06,2054.7,0.0,0.0,0.0,Jan,2016,664.2,Feb,2016,Jan,2016,0.0,1.0,INDIVIDUAL,0.0,0.0,33307.0,41700.0\n"
     ]
    }
   ],
   "source": [
    "!tail -2 data/dvc_data.csv"
   ]
  },
  {
   "cell_type": "code",
   "execution_count": null,
   "id": "1f96b617-f523-47b0-bfd8-7f1a8fdad5bf",
   "metadata": {},
   "outputs": [],
   "source": []
  },
  {
   "cell_type": "markdown",
   "id": "double-petersburg",
   "metadata": {},
   "source": [
    "## Excercise 5: Share data with teammates\n",
    "\n",
    "1. Add a DVC remote: `dvc remote add -d myremote gs://mlinproduction/<yourname>`\n",
    "2. Push dvc data: `dvc push`\n",
    "3. Check results: `dvc pull`and `dvc status`"
   ]
  },
  {
   "cell_type": "code",
   "execution_count": 58,
   "id": "87c0b2a4",
   "metadata": {},
   "outputs": [
    {
     "name": "stdout",
     "output_type": "stream",
     "text": [
      "Setting 'myremote' as a default remote.\n",
      "\u001b[0m"
     ]
    }
   ],
   "source": [
    "!dvc remote add -df myremote gs://mlinproduction/oli"
   ]
  },
  {
   "cell_type": "code",
   "execution_count": 51,
   "id": "d6dfbc5a-ecd3-4a70-a8ea-ca51d7ef13b4",
   "metadata": {},
   "outputs": [
    {
     "name": "stdout",
     "output_type": "stream",
     "text": [
      "  0% Transferring|                                   |0/1 [00:00<?,     ?file/s]\n",
      "!\u001b[A\n",
      "  0%|          |f3a78aba624df9fb975606c5c92b1c     0.00/? [00:00<?,        ?B/s]\u001b[A\n",
      "1 file pushed                                                                   \u001b[A\n",
      "\u001b[0m"
     ]
    }
   ],
   "source": [
    "!dvc push"
   ]
  },
  {
   "cell_type": "code",
   "execution_count": 52,
   "id": "f0dea2f1-c0cb-4380-a3c1-116ce9bbe36a",
   "metadata": {},
   "outputs": [
    {
     "name": "stdout",
     "output_type": "stream",
     "text": [
      "Data and pipelines are up to date.                                    core\u001b[39m>\n",
      "\u001b[0m"
     ]
    }
   ],
   "source": [
    "!dvc status"
   ]
  },
  {
   "cell_type": "code",
   "execution_count": 53,
   "id": "6942fe1c-fcde-44ad-9732-6a159201235c",
   "metadata": {},
   "outputs": [
    {
     "name": "stdout",
     "output_type": "stream",
     "text": [
      "Everything is up to date.                                                       \n",
      "\u001b[0m"
     ]
    }
   ],
   "source": [
    "!dvc pull"
   ]
  },
  {
   "cell_type": "code",
   "execution_count": null,
   "id": "06405716-42cc-4780-8f3a-cfaaa249b24a",
   "metadata": {},
   "outputs": [],
   "source": []
  },
  {
   "cell_type": "code",
   "execution_count": null,
   "id": "b356e897-9e2a-4e92-95e5-0a348313072d",
   "metadata": {},
   "outputs": [],
   "source": []
  },
  {
   "cell_type": "markdown",
   "id": "adjusted-while",
   "metadata": {},
   "source": [
    "## Bonus Excercise: Try to pull data from another teammate to your repository\n",
    "\n",
    "If you still have time, you can try to pull data from a teammate to your repository.\n",
    "\n",
    "Hint: \n",
    "- You can use `dvc import` or `dvc get`. Check the documentation"
   ]
  },
  {
   "cell_type": "code",
   "execution_count": 59,
   "id": "f0403d3b-2a42-4f5a-9ece-8bdfaff70d40",
   "metadata": {},
   "outputs": [
    {
     "name": "stdout",
     "output_type": "stream",
     "text": [
      "\u001b[0m"
     ]
    }
   ],
   "source": [
    "!dvc remote add -f Claudioremote gs://mlinproduction/claudioschmidli"
   ]
  },
  {
   "cell_type": "code",
   "execution_count": 66,
   "id": "44f3721a-32cf-476a-b696-b01c362844b6",
   "metadata": {},
   "outputs": [
    {
     "name": "stdout",
     "output_type": "stream",
     "text": [
      "\u001b[31mERROR\u001b[39m: failed to get 'data/dvc_data.csv' from 'Claudioremote' - Failed to clone repo 'Claudioremote' to '/tmp/tmpmgxa54x0dvc-clone'\n",
      "\u001b[0m"
     ]
    }
   ],
   "source": [
    "!dvc get Claudioremote data/dvc_data.csv"
   ]
  },
  {
   "cell_type": "code",
   "execution_count": 70,
   "id": "0ad07c76-ec28-46f3-8790-b3d5386a679d",
   "metadata": {},
   "outputs": [
    {
     "name": "stdout",
     "output_type": "stream",
     "text": [
      "\u001b[31mERROR\u001b[39m: unexpected error - [Errno 17] File exists: 'data'    core\u001b[39m>\n",
      "\n",
      "\u001b[33mHaving any troubles?\u001b[39m Hit us up at \u001b[34mhttps://dvc.org/support\u001b[39m, we are always happy to help!\n",
      "\u001b[0m"
     ]
    }
   ],
   "source": [
    "!dvc import gs://mlinproduction/claudioschmidli data/."
   ]
  },
  {
   "cell_type": "code",
   "execution_count": null,
   "id": "d2523dcf-0ec7-4e44-b18f-8c230a5ebaae",
   "metadata": {},
   "outputs": [],
   "source": []
  }
 ],
 "metadata": {
  "kernelspec": {
   "display_name": "Python 3",
   "language": "python",
   "name": "python3"
  },
  "language_info": {
   "codemirror_mode": {
    "name": "ipython",
    "version": 3
   },
   "file_extension": ".py",
   "mimetype": "text/x-python",
   "name": "python",
   "nbconvert_exporter": "python",
   "pygments_lexer": "ipython3",
   "version": "3.8.8"
  }
 },
 "nbformat": 4,
 "nbformat_minor": 5
}
